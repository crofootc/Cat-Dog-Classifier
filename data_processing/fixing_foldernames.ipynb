{
 "cells": [
  {
   "cell_type": "code",
   "execution_count": 1,
   "metadata": {},
   "outputs": [],
   "source": [
    "import os"
   ]
  },
  {
   "cell_type": "code",
   "execution_count": 43,
   "metadata": {},
   "outputs": [],
   "source": [
    "folder = r\"D:\\database\\dogs\\\\\""
   ]
  },
  {
   "cell_type": "code",
   "execution_count": 44,
   "metadata": {},
   "outputs": [
    {
     "name": "stdout",
     "output_type": "stream",
     "text": [
      "0 g2pbo545v8821.jpg\n",
      "1000 wI8rk34.jpg\n",
      "2000 9itjelgu02d21.jpg\n",
      "3000 9yk8p29p2lf21.jpg\n",
      "4000 bmujbg8988i21.jpg\n",
      "5000 5x6mqb5s1xk21.jpg\n",
      "6000 RDIMp92_d.jpg\n",
      "7000 4jdyxgmuv2q21.jpg\n",
      "8000 m4s2qatq5is21.jpg\n",
      "9000 lprtf2x5squ21.jpg\n",
      "10000 ahurdj4tj4x21.jpg\n",
      "11000 xdk9grq14nz21.jpg\n",
      "12000 08261u094r131.jpg\n"
     ]
    }
   ],
   "source": [
    "for count, filename in enumerate(os.listdir(folder)): \n",
    "    extension = filename.rsplit('.')[-1]\n",
    "    dst =\"dog_\" + str(count) + f\".{extension}\"\n",
    "    src = folder + filename \n",
    "    dst = folder + dst \n",
    "    if count % 1000 ==0:\n",
    "        print(count, filename)\n",
    "    os.rename(src, dst)"
   ]
  },
  {
   "cell_type": "code",
   "execution_count": null,
   "metadata": {},
   "outputs": [],
   "source": []
  },
  {
   "cell_type": "code",
   "execution_count": null,
   "metadata": {},
   "outputs": [],
   "source": []
  },
  {
   "cell_type": "code",
   "execution_count": null,
   "metadata": {},
   "outputs": [],
   "source": []
  },
  {
   "cell_type": "code",
   "execution_count": null,
   "metadata": {},
   "outputs": [],
   "source": []
  }
 ],
 "metadata": {
  "kernelspec": {
   "display_name": "Python 3",
   "language": "python",
   "name": "python3"
  },
  "language_info": {
   "codemirror_mode": {
    "name": "ipython",
    "version": 3
   },
   "file_extension": ".py",
   "mimetype": "text/x-python",
   "name": "python",
   "nbconvert_exporter": "python",
   "pygments_lexer": "ipython3",
   "version": "3.7.4"
  }
 },
 "nbformat": 4,
 "nbformat_minor": 4
}
